{
  "cells": [
    {
      "cell_type": "markdown",
      "metadata": {
        "id": "view-in-github",
        "colab_type": "text"
      },
      "source": [
        "<a href=\"https://colab.research.google.com/github/adamajroudi/Logical-Thinking-Location-Based-Project-in-San-Francisco/blob/main/Logical_Thinking_Location_Based_Project_in_San_Francisco.ipynb\" target=\"_parent\"><img src=\"https://colab.research.google.com/assets/colab-badge.svg\" alt=\"Open In Colab\"/></a>"
      ]
    },
    {
      "cell_type": "markdown",
      "metadata": {
        "id": "nEeXrnvD96Z3"
      },
      "source": [
        "# **Logical Thinking Location Based Project in San Francisco**"
      ]
    },
    {
      "cell_type": "markdown",
      "metadata": {
        "id": "HSPhYqBatOjA"
      },
      "source": [
        "## **<font color='#3399CC'>LOCATION-BASED OBSERVATIONS </font>**\n",
        "\n",
        "#### **<font color='#3399CC'>ADVERTISEMENTS → ARGUMENTS </font>**\n",
        "\n",
        "The focus of this assignment is analyzing the arguments by making strong applications of all the logical thinking frameworks. However, one initial challenge is to identify the arguments within the ads to begin with. What argument is the ad trying to make? The arguments will not be completely spelled out for me! I'll have to translate the advertisement into an argument with clear premises and a conclusion, including any hidden/implicit prepositions.\n"
      ]
    },
    {
      "cell_type": "markdown",
      "metadata": {
        "id": "JR5RblKV96Z8"
      },
      "source": [
        "## **<font color='#3399CC'>PART 1 - DEDUCTION</font>**\n",
        "\n",
        "In this part, I will work with an advertisement for which the underlying argument involves **deductive reasoning**."
      ]
    },
    {
      "cell_type": "markdown",
      "metadata": {
        "id": "LOhrAWfMav4r"
      },
      "source": [
        "### **<font color='#3399CC'>Argument development for part 1</font>**\n",
        "\n"
      ]
    },
    {
      "cell_type": "code",
      "execution_count": null,
      "metadata": {
        "id": "nYeANi_I7iBc"
      },
      "outputs": [],
      "source": [
        "\n",
        "from IPython.display import Image\n",
        "Image(\"https://minerva-sle-collaboration-production.s3.us-west-2.amazonaws.com/workbook-upload/cl8usjrdb0001356hzyopww3e\")"
      ]
    },
    {
      "cell_type": "code",
      "execution_count": null,
      "metadata": {
        "id": "zjk1NzVB7iBe"
      },
      "outputs": [],
      "source": [
        "Image(\"https://minerva-sle-collaboration-production.s3.us-west-2.amazonaws.com/workbook-upload/cl8usk0fg0002356hypdjb0eu\")"
      ]
    },
    {
      "cell_type": "markdown",
      "metadata": {
        "id": "8fqhfLembXN4"
      },
      "source": [
        "\"Invest\" and \"Reinvest\" captured my attention. Investing, by definition, is the act of committing funds to receive future gain. I believe that the implicit message of this advertisement is that everyone likes receiving benefits with no inconvenience and that investing in something that will help boost their business is quite pleasing. Thus, if one would like to make their employees happy by offering them a retirement plan without the hassle of an admin plan to make their company successful, they should do business with Guideline."
      ]
    },
    {
      "cell_type": "markdown",
      "source": [
        "P1: If you offer a retirement plan to your team, then your team will be happy and\n",
        "\n",
        "satisfied\n",
        "\n",
        "\n",
        "\n",
        "P2: If your team is happy and satisfied, then your team's productivity will increase.\n",
        "\n",
        "\n",
        "\n",
        "P3: If your team's productivity increases, then your business will get benefits\n",
        "\n",
        "\n",
        "\n",
        "P4: If you offer a retirement plan, it will require you inconvenient plan admin work\n",
        "\n",
        "that you hate\n",
        "\n",
        "\n",
        "\n",
        "P5: If there is a retirement plan that will not require you inconvenient plan admin work that you hate, you will enroll in it\n",
        "\n",
        "\n",
        "\n",
        "P6: If you enroll in guidelines, you will offer a retirement plan that will not require you inconvenient plan admin work that you hate\n",
        "\n",
        "\n",
        "\n",
        "P7: If you want to bring benefits to your business, then you offer a retirement plan\n",
        "\n",
        "\n",
        "\n",
        "P8: you want to bring benefits to your business\n",
        "\n",
        "\n",
        "\n",
        "Conclusion: Therefore, you should enroll in guideline"
      ],
      "metadata": {
        "id": "QZZbu7wqSLH6"
      }
    },
    {
      "cell_type": "markdown",
      "metadata": {
        "id": "waEvKHuB7iBg"
      },
      "source": [
        "To craft this argument, I had to look up the definition of invest. Once I acquired a deep understanding of its meaning, I drew a relation between the business owners' desire to boost their company and their employee's role in doing so. Therefore, I added implied premises (P1, P2, and P3) to demonstrate that when a business owner satisfies his employees, his company will prosper. I also used explicit text in the advertisement the service that guideline offers and how it is desirable.\n",
        "\n",
        "\n",
        "\\#breakitdown: I used the drilling technique into extracting all the aspects and inferences of the argument. I looked up the definition of invest to get a deeper understanding of the implied premises."
      ]
    },
    {
      "cell_type": "markdown",
      "metadata": {
        "id": "cok37kV57iBg"
      },
      "source": [
        "### **<font color='#3399CC'>Analysis for part 1</font>**"
      ]
    },
    {
      "cell_type": "markdown",
      "metadata": {
        "id": "_CeU7t0h96Z-"
      },
      "source": [
        "This argument is a deductive argument because it involves necessary reasoning; the conclusion follows the premises. To further showcase and explain how the conclusion relates to and follows the premises, I would assume the truth of all premises and evaluate the conclusion. After doing so, the conclusion is true. Therefore, it is a deductive argument.\n",
        "\n"
      ]
    },
    {
      "cell_type": "markdown",
      "metadata": {
        "id": "Yj4I2CnTrBe-"
      },
      "source": [
        "A: You want to bring benefits to your company\n",
        "\n",
        "B: your team is happy and satisfied\n",
        "\n",
        "C: your team's productivity will increase\n",
        "\n",
        "D: Your company will get benefits\n",
        "\n",
        "E: you offer a retirement plan\n",
        "\n",
        "F: Inconvenient plan admin work that you hate\n",
        "\n",
        "G: You enroll in guideline\n",
        "\n",
        "\n",
        "\n",
        "A\n",
        "\n",
        "E -> B\n",
        "\n",
        "B -> C\n",
        "\n",
        "C-> D\n",
        "\n",
        "F -> ~E\n",
        "\n",
        "G -> ~F\n",
        "\n",
        "G -> D\n",
        "\n",
        "A -> E\n",
        "\n",
        ":. G\n",
        "\n",
        "\n",
        "\n",
        "I translated my argument by simplifying and developing clear atomic sentences that lead to the conclusion that you should enroll in guideline."
      ]
    },
    {
      "cell_type": "markdown",
      "metadata": {
        "id": "Rv-KVvO4rBfA"
      },
      "source": [
        "We have “G implies D”, We either could have “G”, and therefore “D”. Or, we could have “not G”, and therefore, we would not have D. Therefore, “G ->D” is equivalent to “D or not G”.\n",
        "\n",
        "\n",
        "\n",
        "G -> D\n",
        "\n",
        "\n",
        "\n",
        "~(G- >D ) ≡ ~(~G∨D) ≡ ~~G∧~D ≡ G∧~D\n",
        "\n",
        "\n",
        "\n",
        "F -> ~E\n",
        "\n",
        "We have “F implies not E”, We either could have “F”, and therefore “not E”. Or, we could have “not F”, and therefore, we would not have “E“ . Therefore, “F ->not E” is equivalent to “F or not G”.\n",
        "\n",
        "\n",
        "\n",
        "F -> ~E\n",
        "\n",
        "\n",
        "\n",
        "~ (F-> ~E )≡ ~ ( ~F ∨ ~E) ≡ ~~F ∧~ ~E ≡ F ∧ E"
      ]
    },
    {
      "cell_type": "markdown",
      "metadata": {
        "id": "xVSCP6yCrBfD"
      },
      "source": [
        "This argument is valid because if all premises are supposed to be true, the conclusion is impossible to be false.\n",
        "\n",
        "\n",
        "\n",
        "\n",
        "\n",
        "1.A\n",
        "\n",
        "2.E -> B premise\n",
        "\n",
        "3.B -> C premise\n",
        "\n",
        "4.C-> D premise\n",
        "\n",
        "5.F -> ~E premise\n",
        "\n",
        "6.G -> ~F premise\n",
        "\n",
        "7.G -> D premise\n",
        "\n",
        "8.A -> E premise\n",
        "\n",
        ":. G modus ponens 8,1\n",
        "\n"
      ]
    },
    {
      "cell_type": "markdown",
      "metadata": {
        "id": "IZCLHkXsrBfG"
      },
      "source": [
        "This deductive argument is unsound because its premises are not necessarily true. If we were to ask an employee if he would be happy with a retirement plan, they would probably reply yes, but they could also answer no for other reasons concerning their work environment and culture. So if the employee is not satisfied and happy, they will not be productive, and therefore no benefits will be brought to the company. Satisfaction and happiness are not binary as it is quantitive and relies on multiple aspects. Consequently, this is an unsound argument."
      ]
    },
    {
      "cell_type": "markdown",
      "metadata": {
        "id": "hr_Y3mWKrBfF"
      },
      "source": [
        "→ Write your answer for the *optional* question here (double click to edit the cell)."
      ]
    },
    {
      "cell_type": "markdown",
      "metadata": {
        "id": "Vrg0BWjU96aA"
      },
      "source": [
        "#### 5. Assess validity in Python\n"
      ]
    },
    {
      "cell_type": "code",
      "execution_count": null,
      "metadata": {
        "collapsed": true,
        "id": "c6GGeTPo96aB",
        "outputId": "01da8266-6d08-4836-b648-be857e0e6293",
        "colab": {
          "base_uri": "https://localhost:8080/"
        }
      },
      "outputs": [
        {
          "output_type": "stream",
          "name": "stdout",
          "text": [
            "a\t b\t c\t p1\t p2\t p3\t conclusion\n",
            "True \t True \t True \t True \t True \t True \t True \t True \t True \t True \t True \t True \t False \t False \t True \t True \t True\n",
            "True \t True \t True \t True \t True \t True \t True \t False \t True \t True \t True \t True \t False \t False \t True \t True \t True\n",
            "True \t True \t True \t True \t True \t True \t False \t True \t True \t True \t True \t True \t False \t True \t True \t True \t False\n",
            "True \t True \t True \t True \t True \t True \t False \t False \t True \t True \t True \t True \t False \t True \t True \t True \t False\n",
            "True \t True \t True \t True \t True \t False \t True \t True \t True \t True \t True \t True \t True \t True \t True \t True \t True\n",
            "True \t True \t True \t True \t True \t False \t True \t False \t True \t True \t True \t True \t True \t True \t True \t True \t True\n",
            "True \t True \t True \t True \t True \t False \t False \t True \t True \t True \t True \t True \t True \t True \t True \t True \t False\n",
            "True \t True \t True \t True \t True \t False \t False \t False \t True \t True \t True \t True \t True \t True \t True \t True \t False\n",
            "True \t True \t True \t True \t False \t True \t True \t True \t True \t True \t True \t True \t True \t False \t True \t False \t True\n",
            "True \t True \t True \t True \t False \t True \t True \t False \t True \t True \t True \t True \t True \t False \t True \t False \t True\n",
            "True \t True \t True \t True \t False \t True \t False \t True \t True \t True \t True \t True \t True \t True \t True \t False \t False\n",
            "True \t True \t True \t True \t False \t True \t False \t False \t True \t True \t True \t True \t True \t True \t True \t False \t False\n",
            "True \t True \t True \t True \t False \t False \t True \t True \t True \t True \t True \t True \t True \t True \t True \t False \t True\n",
            "True \t True \t True \t True \t False \t False \t True \t False \t True \t True \t True \t True \t True \t True \t True \t False \t True\n",
            "True \t True \t True \t True \t False \t False \t False \t True \t True \t True \t True \t True \t True \t True \t True \t False \t False\n",
            "True \t True \t True \t True \t False \t False \t False \t False \t True \t True \t True \t True \t True \t True \t True \t False \t False\n",
            "True \t True \t True \t False \t True \t True \t True \t True \t True \t True \t True \t False \t False \t False \t False \t True \t True\n",
            "True \t True \t True \t False \t True \t True \t True \t False \t True \t True \t True \t False \t False \t False \t False \t True \t True\n",
            "True \t True \t True \t False \t True \t True \t False \t True \t True \t True \t True \t False \t False \t True \t True \t True \t False\n",
            "True \t True \t True \t False \t True \t True \t False \t False \t True \t True \t True \t False \t False \t True \t True \t True \t False\n",
            "True \t True \t True \t False \t True \t False \t True \t True \t True \t True \t True \t False \t True \t True \t False \t True \t True\n",
            "True \t True \t True \t False \t True \t False \t True \t False \t True \t True \t True \t False \t True \t True \t False \t True \t True\n",
            "True \t True \t True \t False \t True \t False \t False \t True \t True \t True \t True \t False \t True \t True \t True \t True \t False\n",
            "True \t True \t True \t False \t True \t False \t False \t False \t True \t True \t True \t False \t True \t True \t True \t True \t False\n",
            "True \t True \t True \t False \t False \t True \t True \t True \t True \t True \t True \t False \t True \t False \t False \t False \t True\n",
            "True \t True \t True \t False \t False \t True \t True \t False \t True \t True \t True \t False \t True \t False \t False \t False \t True\n",
            "True \t True \t True \t False \t False \t True \t False \t True \t True \t True \t True \t False \t True \t True \t True \t False \t False\n",
            "True \t True \t True \t False \t False \t True \t False \t False \t True \t True \t True \t False \t True \t True \t True \t False \t False\n",
            "True \t True \t True \t False \t False \t False \t True \t True \t True \t True \t True \t False \t True \t True \t False \t False \t True\n",
            "True \t True \t True \t False \t False \t False \t True \t False \t True \t True \t True \t False \t True \t True \t False \t False \t True\n",
            "True \t True \t True \t False \t False \t False \t False \t True \t True \t True \t True \t False \t True \t True \t True \t False \t False\n",
            "True \t True \t True \t False \t False \t False \t False \t False \t True \t True \t True \t False \t True \t True \t True \t False \t False\n",
            "True \t True \t False \t True \t True \t True \t True \t True \t True \t True \t False \t True \t False \t False \t True \t True \t True\n",
            "True \t True \t False \t True \t True \t True \t True \t False \t True \t True \t False \t True \t False \t False \t True \t True \t True\n",
            "True \t True \t False \t True \t True \t True \t False \t True \t True \t True \t False \t True \t False \t True \t True \t True \t False\n",
            "True \t True \t False \t True \t True \t True \t False \t False \t True \t True \t False \t True \t False \t True \t True \t True \t False\n",
            "True \t True \t False \t True \t True \t False \t True \t True \t True \t True \t False \t True \t True \t True \t True \t True \t True\n",
            "True \t True \t False \t True \t True \t False \t True \t False \t True \t True \t False \t True \t True \t True \t True \t True \t True\n",
            "True \t True \t False \t True \t True \t False \t False \t True \t True \t True \t False \t True \t True \t True \t True \t True \t False\n",
            "True \t True \t False \t True \t True \t False \t False \t False \t True \t True \t False \t True \t True \t True \t True \t True \t False\n",
            "True \t True \t False \t True \t False \t True \t True \t True \t True \t True \t False \t True \t True \t False \t True \t False \t True\n",
            "True \t True \t False \t True \t False \t True \t True \t False \t True \t True \t False \t True \t True \t False \t True \t False \t True\n",
            "True \t True \t False \t True \t False \t True \t False \t True \t True \t True \t False \t True \t True \t True \t True \t False \t False\n",
            "True \t True \t False \t True \t False \t True \t False \t False \t True \t True \t False \t True \t True \t True \t True \t False \t False\n",
            "True \t True \t False \t True \t False \t False \t True \t True \t True \t True \t False \t True \t True \t True \t True \t False \t True\n",
            "True \t True \t False \t True \t False \t False \t True \t False \t True \t True \t False \t True \t True \t True \t True \t False \t True\n",
            "True \t True \t False \t True \t False \t False \t False \t True \t True \t True \t False \t True \t True \t True \t True \t False \t False\n",
            "True \t True \t False \t True \t False \t False \t False \t False \t True \t True \t False \t True \t True \t True \t True \t False \t False\n",
            "True \t True \t False \t False \t True \t True \t True \t True \t True \t True \t False \t True \t False \t False \t False \t True \t True\n",
            "True \t True \t False \t False \t True \t True \t True \t False \t True \t True \t False \t True \t False \t False \t False \t True \t True\n",
            "True \t True \t False \t False \t True \t True \t False \t True \t True \t True \t False \t True \t False \t True \t True \t True \t False\n",
            "True \t True \t False \t False \t True \t True \t False \t False \t True \t True \t False \t True \t False \t True \t True \t True \t False\n",
            "True \t True \t False \t False \t True \t False \t True \t True \t True \t True \t False \t True \t True \t True \t False \t True \t True\n",
            "True \t True \t False \t False \t True \t False \t True \t False \t True \t True \t False \t True \t True \t True \t False \t True \t True\n",
            "True \t True \t False \t False \t True \t False \t False \t True \t True \t True \t False \t True \t True \t True \t True \t True \t False\n",
            "True \t True \t False \t False \t True \t False \t False \t False \t True \t True \t False \t True \t True \t True \t True \t True \t False\n",
            "True \t True \t False \t False \t False \t True \t True \t True \t True \t True \t False \t True \t True \t False \t False \t False \t True\n",
            "True \t True \t False \t False \t False \t True \t True \t False \t True \t True \t False \t True \t True \t False \t False \t False \t True\n",
            "True \t True \t False \t False \t False \t True \t False \t True \t True \t True \t False \t True \t True \t True \t True \t False \t False\n",
            "True \t True \t False \t False \t False \t True \t False \t False \t True \t True \t False \t True \t True \t True \t True \t False \t False\n",
            "True \t True \t False \t False \t False \t False \t True \t True \t True \t True \t False \t True \t True \t True \t False \t False \t True\n",
            "True \t True \t False \t False \t False \t False \t True \t False \t True \t True \t False \t True \t True \t True \t False \t False \t True\n",
            "True \t True \t False \t False \t False \t False \t False \t True \t True \t True \t False \t True \t True \t True \t True \t False \t False\n",
            "True \t True \t False \t False \t False \t False \t False \t False \t True \t True \t False \t True \t True \t True \t True \t False \t False\n",
            "True \t False \t True \t True \t True \t True \t True \t True \t True \t False \t True \t True \t False \t False \t True \t True \t True\n",
            "True \t False \t True \t True \t True \t True \t True \t False \t True \t False \t True \t True \t False \t False \t True \t True \t True\n",
            "True \t False \t True \t True \t True \t True \t False \t True \t True \t False \t True \t True \t False \t True \t True \t True \t False\n",
            "True \t False \t True \t True \t True \t True \t False \t False \t True \t False \t True \t True \t False \t True \t True \t True \t False\n",
            "True \t False \t True \t True \t True \t False \t True \t True \t True \t False \t True \t True \t True \t True \t True \t True \t True\n",
            "True \t False \t True \t True \t True \t False \t True \t False \t True \t False \t True \t True \t True \t True \t True \t True \t True\n",
            "True \t False \t True \t True \t True \t False \t False \t True \t True \t False \t True \t True \t True \t True \t True \t True \t False\n",
            "True \t False \t True \t True \t True \t False \t False \t False \t True \t False \t True \t True \t True \t True \t True \t True \t False\n",
            "True \t False \t True \t True \t False \t True \t True \t True \t True \t True \t True \t True \t True \t False \t True \t False \t True\n",
            "True \t False \t True \t True \t False \t True \t True \t False \t True \t True \t True \t True \t True \t False \t True \t False \t True\n",
            "True \t False \t True \t True \t False \t True \t False \t True \t True \t True \t True \t True \t True \t True \t True \t False \t False\n",
            "True \t False \t True \t True \t False \t True \t False \t False \t True \t True \t True \t True \t True \t True \t True \t False \t False\n",
            "True \t False \t True \t True \t False \t False \t True \t True \t True \t True \t True \t True \t True \t True \t True \t False \t True\n",
            "True \t False \t True \t True \t False \t False \t True \t False \t True \t True \t True \t True \t True \t True \t True \t False \t True\n",
            "True \t False \t True \t True \t False \t False \t False \t True \t True \t True \t True \t True \t True \t True \t True \t False \t False\n",
            "True \t False \t True \t True \t False \t False \t False \t False \t True \t True \t True \t True \t True \t True \t True \t False \t False\n",
            "True \t False \t True \t False \t True \t True \t True \t True \t True \t False \t True \t False \t False \t False \t False \t True \t True\n",
            "True \t False \t True \t False \t True \t True \t True \t False \t True \t False \t True \t False \t False \t False \t False \t True \t True\n",
            "True \t False \t True \t False \t True \t True \t False \t True \t True \t False \t True \t False \t False \t True \t True \t True \t False\n",
            "True \t False \t True \t False \t True \t True \t False \t False \t True \t False \t True \t False \t False \t True \t True \t True \t False\n",
            "True \t False \t True \t False \t True \t False \t True \t True \t True \t False \t True \t False \t True \t True \t False \t True \t True\n",
            "True \t False \t True \t False \t True \t False \t True \t False \t True \t False \t True \t False \t True \t True \t False \t True \t True\n",
            "True \t False \t True \t False \t True \t False \t False \t True \t True \t False \t True \t False \t True \t True \t True \t True \t False\n",
            "True \t False \t True \t False \t True \t False \t False \t False \t True \t False \t True \t False \t True \t True \t True \t True \t False\n",
            "True \t False \t True \t False \t False \t True \t True \t True \t True \t True \t True \t False \t True \t False \t False \t False \t True\n",
            "True \t False \t True \t False \t False \t True \t True \t False \t True \t True \t True \t False \t True \t False \t False \t False \t True\n",
            "True \t False \t True \t False \t False \t True \t False \t True \t True \t True \t True \t False \t True \t True \t True \t False \t False\n",
            "True \t False \t True \t False \t False \t True \t False \t False \t True \t True \t True \t False \t True \t True \t True \t False \t False\n",
            "True \t False \t True \t False \t False \t False \t True \t True \t True \t True \t True \t False \t True \t True \t False \t False \t True\n",
            "True \t False \t True \t False \t False \t False \t True \t False \t True \t True \t True \t False \t True \t True \t False \t False \t True\n",
            "True \t False \t True \t False \t False \t False \t False \t True \t True \t True \t True \t False \t True \t True \t True \t False \t False\n",
            "True \t False \t True \t False \t False \t False \t False \t False \t True \t True \t True \t False \t True \t True \t True \t False \t False\n",
            "True \t False \t False \t True \t True \t True \t True \t True \t True \t False \t True \t True \t False \t False \t True \t True \t True\n",
            "True \t False \t False \t True \t True \t True \t True \t False \t True \t False \t True \t True \t False \t False \t True \t True \t True\n",
            "True \t False \t False \t True \t True \t True \t False \t True \t True \t False \t True \t True \t False \t True \t True \t True \t False\n",
            "True \t False \t False \t True \t True \t True \t False \t False \t True \t False \t True \t True \t False \t True \t True \t True \t False\n",
            "True \t False \t False \t True \t True \t False \t True \t True \t True \t False \t True \t True \t True \t True \t True \t True \t True\n",
            "True \t False \t False \t True \t True \t False \t True \t False \t True \t False \t True \t True \t True \t True \t True \t True \t True\n",
            "True \t False \t False \t True \t True \t False \t False \t True \t True \t False \t True \t True \t True \t True \t True \t True \t False\n",
            "True \t False \t False \t True \t True \t False \t False \t False \t True \t False \t True \t True \t True \t True \t True \t True \t False\n",
            "True \t False \t False \t True \t False \t True \t True \t True \t True \t True \t True \t True \t True \t False \t True \t False \t True\n",
            "True \t False \t False \t True \t False \t True \t True \t False \t True \t True \t True \t True \t True \t False \t True \t False \t True\n",
            "True \t False \t False \t True \t False \t True \t False \t True \t True \t True \t True \t True \t True \t True \t True \t False \t False\n",
            "True \t False \t False \t True \t False \t True \t False \t False \t True \t True \t True \t True \t True \t True \t True \t False \t False\n",
            "True \t False \t False \t True \t False \t False \t True \t True \t True \t True \t True \t True \t True \t True \t True \t False \t True\n",
            "True \t False \t False \t True \t False \t False \t True \t False \t True \t True \t True \t True \t True \t True \t True \t False \t True\n",
            "True \t False \t False \t True \t False \t False \t False \t True \t True \t True \t True \t True \t True \t True \t True \t False \t False\n",
            "True \t False \t False \t True \t False \t False \t False \t False \t True \t True \t True \t True \t True \t True \t True \t False \t False\n",
            "True \t False \t False \t False \t True \t True \t True \t True \t True \t False \t True \t True \t False \t False \t False \t True \t True\n",
            "True \t False \t False \t False \t True \t True \t True \t False \t True \t False \t True \t True \t False \t False \t False \t True \t True\n",
            "True \t False \t False \t False \t True \t True \t False \t True \t True \t False \t True \t True \t False \t True \t True \t True \t False\n",
            "True \t False \t False \t False \t True \t True \t False \t False \t True \t False \t True \t True \t False \t True \t True \t True \t False\n",
            "True \t False \t False \t False \t True \t False \t True \t True \t True \t False \t True \t True \t True \t True \t False \t True \t True\n",
            "True \t False \t False \t False \t True \t False \t True \t False \t True \t False \t True \t True \t True \t True \t False \t True \t True\n",
            "True \t False \t False \t False \t True \t False \t False \t True \t True \t False \t True \t True \t True \t True \t True \t True \t False\n",
            "True \t False \t False \t False \t True \t False \t False \t False \t True \t False \t True \t True \t True \t True \t True \t True \t False\n",
            "True \t False \t False \t False \t False \t True \t True \t True \t True \t True \t True \t True \t True \t False \t False \t False \t True\n",
            "True \t False \t False \t False \t False \t True \t True \t False \t True \t True \t True \t True \t True \t False \t False \t False \t True\n",
            "True \t False \t False \t False \t False \t True \t False \t True \t True \t True \t True \t True \t True \t True \t True \t False \t False\n",
            "True \t False \t False \t False \t False \t True \t False \t False \t True \t True \t True \t True \t True \t True \t True \t False \t False\n",
            "True \t False \t False \t False \t False \t False \t True \t True \t True \t True \t True \t True \t True \t True \t False \t False \t True\n",
            "True \t False \t False \t False \t False \t False \t True \t False \t True \t True \t True \t True \t True \t True \t False \t False \t True\n",
            "True \t False \t False \t False \t False \t False \t False \t True \t True \t True \t True \t True \t True \t True \t True \t False \t False\n",
            "True \t False \t False \t False \t False \t False \t False \t False \t True \t True \t True \t True \t True \t True \t True \t False \t False\n",
            "False \t True \t True \t True \t True \t True \t True \t True \t False \t True \t True \t True \t False \t False \t True \t True \t True\n",
            "False \t True \t True \t True \t True \t True \t True \t False \t False \t True \t True \t True \t False \t False \t True \t True \t True\n",
            "False \t True \t True \t True \t True \t True \t False \t True \t False \t True \t True \t True \t False \t True \t True \t True \t False\n",
            "False \t True \t True \t True \t True \t True \t False \t False \t False \t True \t True \t True \t False \t True \t True \t True \t False\n",
            "False \t True \t True \t True \t True \t False \t True \t True \t False \t True \t True \t True \t True \t True \t True \t True \t True\n",
            "False \t True \t True \t True \t True \t False \t True \t False \t False \t True \t True \t True \t True \t True \t True \t True \t True\n",
            "False \t True \t True \t True \t True \t False \t False \t True \t False \t True \t True \t True \t True \t True \t True \t True \t False\n",
            "False \t True \t True \t True \t True \t False \t False \t False \t False \t True \t True \t True \t True \t True \t True \t True \t False\n",
            "False \t True \t True \t True \t False \t True \t True \t True \t False \t True \t True \t True \t True \t False \t True \t True \t True\n",
            "False \t True \t True \t True \t False \t True \t True \t False \t False \t True \t True \t True \t True \t False \t True \t True \t True\n",
            "False \t True \t True \t True \t False \t True \t False \t True \t False \t True \t True \t True \t True \t True \t True \t True \t False\n",
            "False \t True \t True \t True \t False \t True \t False \t False \t False \t True \t True \t True \t True \t True \t True \t True \t False\n",
            "False \t True \t True \t True \t False \t False \t True \t True \t False \t True \t True \t True \t True \t True \t True \t True \t True\n",
            "False \t True \t True \t True \t False \t False \t True \t False \t False \t True \t True \t True \t True \t True \t True \t True \t True\n",
            "False \t True \t True \t True \t False \t False \t False \t True \t False \t True \t True \t True \t True \t True \t True \t True \t False\n",
            "False \t True \t True \t True \t False \t False \t False \t False \t False \t True \t True \t True \t True \t True \t True \t True \t False\n",
            "False \t True \t True \t False \t True \t True \t True \t True \t False \t True \t True \t False \t False \t False \t False \t True \t True\n",
            "False \t True \t True \t False \t True \t True \t True \t False \t False \t True \t True \t False \t False \t False \t False \t True \t True\n",
            "False \t True \t True \t False \t True \t True \t False \t True \t False \t True \t True \t False \t False \t True \t True \t True \t False\n",
            "False \t True \t True \t False \t True \t True \t False \t False \t False \t True \t True \t False \t False \t True \t True \t True \t False\n",
            "False \t True \t True \t False \t True \t False \t True \t True \t False \t True \t True \t False \t True \t True \t False \t True \t True\n",
            "False \t True \t True \t False \t True \t False \t True \t False \t False \t True \t True \t False \t True \t True \t False \t True \t True\n",
            "False \t True \t True \t False \t True \t False \t False \t True \t False \t True \t True \t False \t True \t True \t True \t True \t False\n",
            "False \t True \t True \t False \t True \t False \t False \t False \t False \t True \t True \t False \t True \t True \t True \t True \t False\n",
            "False \t True \t True \t False \t False \t True \t True \t True \t False \t True \t True \t False \t True \t False \t False \t True \t True\n",
            "False \t True \t True \t False \t False \t True \t True \t False \t False \t True \t True \t False \t True \t False \t False \t True \t True\n",
            "False \t True \t True \t False \t False \t True \t False \t True \t False \t True \t True \t False \t True \t True \t True \t True \t False\n",
            "False \t True \t True \t False \t False \t True \t False \t False \t False \t True \t True \t False \t True \t True \t True \t True \t False\n",
            "False \t True \t True \t False \t False \t False \t True \t True \t False \t True \t True \t False \t True \t True \t False \t True \t True\n",
            "False \t True \t True \t False \t False \t False \t True \t False \t False \t True \t True \t False \t True \t True \t False \t True \t True\n",
            "False \t True \t True \t False \t False \t False \t False \t True \t False \t True \t True \t False \t True \t True \t True \t True \t False\n",
            "False \t True \t True \t False \t False \t False \t False \t False \t False \t True \t True \t False \t True \t True \t True \t True \t False\n",
            "False \t True \t False \t True \t True \t True \t True \t True \t False \t True \t False \t True \t False \t False \t True \t True \t True\n",
            "False \t True \t False \t True \t True \t True \t True \t False \t False \t True \t False \t True \t False \t False \t True \t True \t True\n",
            "False \t True \t False \t True \t True \t True \t False \t True \t False \t True \t False \t True \t False \t True \t True \t True \t False\n",
            "False \t True \t False \t True \t True \t True \t False \t False \t False \t True \t False \t True \t False \t True \t True \t True \t False\n",
            "False \t True \t False \t True \t True \t False \t True \t True \t False \t True \t False \t True \t True \t True \t True \t True \t True\n",
            "False \t True \t False \t True \t True \t False \t True \t False \t False \t True \t False \t True \t True \t True \t True \t True \t True\n",
            "False \t True \t False \t True \t True \t False \t False \t True \t False \t True \t False \t True \t True \t True \t True \t True \t False\n",
            "False \t True \t False \t True \t True \t False \t False \t False \t False \t True \t False \t True \t True \t True \t True \t True \t False\n",
            "False \t True \t False \t True \t False \t True \t True \t True \t False \t True \t False \t True \t True \t False \t True \t True \t True\n",
            "False \t True \t False \t True \t False \t True \t True \t False \t False \t True \t False \t True \t True \t False \t True \t True \t True\n",
            "False \t True \t False \t True \t False \t True \t False \t True \t False \t True \t False \t True \t True \t True \t True \t True \t False\n",
            "False \t True \t False \t True \t False \t True \t False \t False \t False \t True \t False \t True \t True \t True \t True \t True \t False\n",
            "False \t True \t False \t True \t False \t False \t True \t True \t False \t True \t False \t True \t True \t True \t True \t True \t True\n",
            "False \t True \t False \t True \t False \t False \t True \t False \t False \t True \t False \t True \t True \t True \t True \t True \t True\n",
            "False \t True \t False \t True \t False \t False \t False \t True \t False \t True \t False \t True \t True \t True \t True \t True \t False\n",
            "False \t True \t False \t True \t False \t False \t False \t False \t False \t True \t False \t True \t True \t True \t True \t True \t False\n",
            "False \t True \t False \t False \t True \t True \t True \t True \t False \t True \t False \t True \t False \t False \t False \t True \t True\n",
            "False \t True \t False \t False \t True \t True \t True \t False \t False \t True \t False \t True \t False \t False \t False \t True \t True\n",
            "False \t True \t False \t False \t True \t True \t False \t True \t False \t True \t False \t True \t False \t True \t True \t True \t False\n",
            "False \t True \t False \t False \t True \t True \t False \t False \t False \t True \t False \t True \t False \t True \t True \t True \t False\n",
            "False \t True \t False \t False \t True \t False \t True \t True \t False \t True \t False \t True \t True \t True \t False \t True \t True\n",
            "False \t True \t False \t False \t True \t False \t True \t False \t False \t True \t False \t True \t True \t True \t False \t True \t True\n",
            "False \t True \t False \t False \t True \t False \t False \t True \t False \t True \t False \t True \t True \t True \t True \t True \t False\n",
            "False \t True \t False \t False \t True \t False \t False \t False \t False \t True \t False \t True \t True \t True \t True \t True \t False\n",
            "False \t True \t False \t False \t False \t True \t True \t True \t False \t True \t False \t True \t True \t False \t False \t True \t True\n",
            "False \t True \t False \t False \t False \t True \t True \t False \t False \t True \t False \t True \t True \t False \t False \t True \t True\n",
            "False \t True \t False \t False \t False \t True \t False \t True \t False \t True \t False \t True \t True \t True \t True \t True \t False\n",
            "False \t True \t False \t False \t False \t True \t False \t False \t False \t True \t False \t True \t True \t True \t True \t True \t False\n",
            "False \t True \t False \t False \t False \t False \t True \t True \t False \t True \t False \t True \t True \t True \t False \t True \t True\n",
            "False \t True \t False \t False \t False \t False \t True \t False \t False \t True \t False \t True \t True \t True \t False \t True \t True\n",
            "False \t True \t False \t False \t False \t False \t False \t True \t False \t True \t False \t True \t True \t True \t True \t True \t False\n",
            "False \t True \t False \t False \t False \t False \t False \t False \t False \t True \t False \t True \t True \t True \t True \t True \t False\n",
            "False \t False \t True \t True \t True \t True \t True \t True \t False \t False \t True \t True \t False \t False \t True \t True \t True\n",
            "False \t False \t True \t True \t True \t True \t True \t False \t False \t False \t True \t True \t False \t False \t True \t True \t True\n",
            "False \t False \t True \t True \t True \t True \t False \t True \t False \t False \t True \t True \t False \t True \t True \t True \t False\n",
            "False \t False \t True \t True \t True \t True \t False \t False \t False \t False \t True \t True \t False \t True \t True \t True \t False\n",
            "False \t False \t True \t True \t True \t False \t True \t True \t False \t False \t True \t True \t True \t True \t True \t True \t True\n",
            "False \t False \t True \t True \t True \t False \t True \t False \t False \t False \t True \t True \t True \t True \t True \t True \t True\n",
            "False \t False \t True \t True \t True \t False \t False \t True \t False \t False \t True \t True \t True \t True \t True \t True \t False\n",
            "False \t False \t True \t True \t True \t False \t False \t False \t False \t False \t True \t True \t True \t True \t True \t True \t False\n",
            "False \t False \t True \t True \t False \t True \t True \t True \t False \t True \t True \t True \t True \t False \t True \t True \t True\n",
            "False \t False \t True \t True \t False \t True \t True \t False \t False \t True \t True \t True \t True \t False \t True \t True \t True\n",
            "False \t False \t True \t True \t False \t True \t False \t True \t False \t True \t True \t True \t True \t True \t True \t True \t False\n",
            "False \t False \t True \t True \t False \t True \t False \t False \t False \t True \t True \t True \t True \t True \t True \t True \t False\n",
            "False \t False \t True \t True \t False \t False \t True \t True \t False \t True \t True \t True \t True \t True \t True \t True \t True\n",
            "False \t False \t True \t True \t False \t False \t True \t False \t False \t True \t True \t True \t True \t True \t True \t True \t True\n",
            "False \t False \t True \t True \t False \t False \t False \t True \t False \t True \t True \t True \t True \t True \t True \t True \t False\n",
            "False \t False \t True \t True \t False \t False \t False \t False \t False \t True \t True \t True \t True \t True \t True \t True \t False\n",
            "False \t False \t True \t False \t True \t True \t True \t True \t False \t False \t True \t False \t False \t False \t False \t True \t True\n",
            "False \t False \t True \t False \t True \t True \t True \t False \t False \t False \t True \t False \t False \t False \t False \t True \t True\n",
            "False \t False \t True \t False \t True \t True \t False \t True \t False \t False \t True \t False \t False \t True \t True \t True \t False\n",
            "False \t False \t True \t False \t True \t True \t False \t False \t False \t False \t True \t False \t False \t True \t True \t True \t False\n",
            "False \t False \t True \t False \t True \t False \t True \t True \t False \t False \t True \t False \t True \t True \t False \t True \t True\n",
            "False \t False \t True \t False \t True \t False \t True \t False \t False \t False \t True \t False \t True \t True \t False \t True \t True\n",
            "False \t False \t True \t False \t True \t False \t False \t True \t False \t False \t True \t False \t True \t True \t True \t True \t False\n",
            "False \t False \t True \t False \t True \t False \t False \t False \t False \t False \t True \t False \t True \t True \t True \t True \t False\n",
            "False \t False \t True \t False \t False \t True \t True \t True \t False \t True \t True \t False \t True \t False \t False \t True \t True\n",
            "False \t False \t True \t False \t False \t True \t True \t False \t False \t True \t True \t False \t True \t False \t False \t True \t True\n",
            "False \t False \t True \t False \t False \t True \t False \t True \t False \t True \t True \t False \t True \t True \t True \t True \t False\n",
            "False \t False \t True \t False \t False \t True \t False \t False \t False \t True \t True \t False \t True \t True \t True \t True \t False\n",
            "False \t False \t True \t False \t False \t False \t True \t True \t False \t True \t True \t False \t True \t True \t False \t True \t True\n",
            "False \t False \t True \t False \t False \t False \t True \t False \t False \t True \t True \t False \t True \t True \t False \t True \t True\n",
            "False \t False \t True \t False \t False \t False \t False \t True \t False \t True \t True \t False \t True \t True \t True \t True \t False\n",
            "False \t False \t True \t False \t False \t False \t False \t False \t False \t True \t True \t False \t True \t True \t True \t True \t False\n",
            "False \t False \t False \t True \t True \t True \t True \t True \t False \t False \t True \t True \t False \t False \t True \t True \t True\n",
            "False \t False \t False \t True \t True \t True \t True \t False \t False \t False \t True \t True \t False \t False \t True \t True \t True\n",
            "False \t False \t False \t True \t True \t True \t False \t True \t False \t False \t True \t True \t False \t True \t True \t True \t False\n",
            "False \t False \t False \t True \t True \t True \t False \t False \t False \t False \t True \t True \t False \t True \t True \t True \t False\n",
            "False \t False \t False \t True \t True \t False \t True \t True \t False \t False \t True \t True \t True \t True \t True \t True \t True\n",
            "False \t False \t False \t True \t True \t False \t True \t False \t False \t False \t True \t True \t True \t True \t True \t True \t True\n",
            "False \t False \t False \t True \t True \t False \t False \t True \t False \t False \t True \t True \t True \t True \t True \t True \t False\n",
            "False \t False \t False \t True \t True \t False \t False \t False \t False \t False \t True \t True \t True \t True \t True \t True \t False\n",
            "False \t False \t False \t True \t False \t True \t True \t True \t False \t True \t True \t True \t True \t False \t True \t True \t True\n",
            "False \t False \t False \t True \t False \t True \t True \t False \t False \t True \t True \t True \t True \t False \t True \t True \t True\n",
            "False \t False \t False \t True \t False \t True \t False \t True \t False \t True \t True \t True \t True \t True \t True \t True \t False\n",
            "False \t False \t False \t True \t False \t True \t False \t False \t False \t True \t True \t True \t True \t True \t True \t True \t False\n",
            "False \t False \t False \t True \t False \t False \t True \t True \t False \t True \t True \t True \t True \t True \t True \t True \t True\n",
            "False \t False \t False \t True \t False \t False \t True \t False \t False \t True \t True \t True \t True \t True \t True \t True \t True\n",
            "False \t False \t False \t True \t False \t False \t False \t True \t False \t True \t True \t True \t True \t True \t True \t True \t False\n",
            "False \t False \t False \t True \t False \t False \t False \t False \t False \t True \t True \t True \t True \t True \t True \t True \t False\n",
            "False \t False \t False \t False \t True \t True \t True \t True \t False \t False \t True \t True \t False \t False \t False \t True \t True\n",
            "False \t False \t False \t False \t True \t True \t True \t False \t False \t False \t True \t True \t False \t False \t False \t True \t True\n",
            "False \t False \t False \t False \t True \t True \t False \t True \t False \t False \t True \t True \t False \t True \t True \t True \t False\n",
            "False \t False \t False \t False \t True \t True \t False \t False \t False \t False \t True \t True \t False \t True \t True \t True \t False\n",
            "False \t False \t False \t False \t True \t False \t True \t True \t False \t False \t True \t True \t True \t True \t False \t True \t True\n",
            "False \t False \t False \t False \t True \t False \t True \t False \t False \t False \t True \t True \t True \t True \t False \t True \t True\n",
            "False \t False \t False \t False \t True \t False \t False \t True \t False \t False \t True \t True \t True \t True \t True \t True \t False\n",
            "False \t False \t False \t False \t True \t False \t False \t False \t False \t False \t True \t True \t True \t True \t True \t True \t False\n",
            "False \t False \t False \t False \t False \t True \t True \t True \t False \t True \t True \t True \t True \t False \t False \t True \t True\n",
            "False \t False \t False \t False \t False \t True \t True \t False \t False \t True \t True \t True \t True \t False \t False \t True \t True\n",
            "False \t False \t False \t False \t False \t True \t False \t True \t False \t True \t True \t True \t True \t True \t True \t True \t False\n",
            "False \t False \t False \t False \t False \t True \t False \t False \t False \t True \t True \t True \t True \t True \t True \t True \t False\n",
            "False \t False \t False \t False \t False \t False \t True \t True \t False \t True \t True \t True \t True \t True \t False \t True \t True\n",
            "False \t False \t False \t False \t False \t False \t True \t False \t False \t True \t True \t True \t True \t True \t False \t True \t True\n",
            "False \t False \t False \t False \t False \t False \t False \t True \t False \t True \t True \t True \t True \t True \t True \t True \t False\n",
            "False \t False \t False \t False \t False \t False \t False \t False \t False \t True \t True \t True \t True \t True \t True \t True \t False\n",
            "The argument is INVALID.\n"
          ]
        }
      ],
      "source": [
        "# code for your validity algorithm\n",
        "def conditional(a,b):\n",
        "    # inputs two Boolean variables representing atomic sentences a, b\n",
        "    # outputs the truth value of the sentence \"a -> b\"\n",
        "    return not a or b\n",
        "\n",
        "# This is the function for premise one which is the atomic sentence a\n",
        "def premise1(a,b,c,d,e,f,g):\n",
        "    return a\n",
        "#*\n",
        "def premise2(a,b,c,d,e,f,g):\n",
        "    return conditional(e, b)\n",
        "#*\n",
        "def premise3(a,b,c,d,e,f,g):\n",
        "    return conditional(b, c)\n",
        "#*\n",
        "def premise4(a,b,c,d,e,f,g):\n",
        "    return conditional(c, d)\n",
        "\n",
        "# for this premise I used the function conditional but the I negated the parameter e so I can my atomic sentence\n",
        "def premise5(a,b,c,d,e,f,g):\n",
        "    return conditional(f, not e)\n",
        "\n",
        "# for this premise I used the function conditional but the I negated the parameter f so I can my atomic sentence\n",
        "def premise6(a,b,c,d,e,f,g):\n",
        "    return conditional(g, not f)\n",
        "#*\n",
        "def premise7(a,b,c,d,e,f,g):\n",
        "    return conditional(g, d)\n",
        "#*\n",
        "def premise8(a,b,c,d,e,f,g):\n",
        "    return conditional(a, e)\n",
        "\n",
        "def conclusion(a,b,c,d,e,f,g):\n",
        "    return g\n",
        "\n",
        "#* for all of these premises that I wrote, I called the conditional function and used the appropriate parameters used in the the adequate premise\n",
        "\n",
        "def valid_checker(p1, p2, p3, p4, p5, p6, p7, p8, concl):\n",
        "    print('a\\t b\\t c\\t p1\\t p2\\t p3\\t conclusion')\n",
        "    validity = True\n",
        "    for a in [True,False]:\n",
        "        for b in [True,False]:\n",
        "            for c in [True,False]:\n",
        "                for d in [True,False]:\n",
        "                    for e in [True,False]:\n",
        "                        for f in [True,False]:\n",
        "                            for g in [True,False]:\n",
        "                                for h in [True,False]:\n",
        "                                    print(a,'\\t',b,'\\t',c,'\\t',d,'\\t',e,'\\t',f,'\\t',g,'\\t',h,'\\t',p1(a,b,c,d,e,f,g),'\\t',p2(a,b,c,d,e,f,g),'\\t',p3(a,b,c,d,e,f,g),'\\t',p4(a,b,c,d,e,f,g),'\\t',p5(a,b,c,d,e,f,g),'\\t',p6(a,b,c,d,e,f,g),'\\t',p7(a,b,c,d,e,f,g),'\\t',p8(a,b,c,d,e,f,g),'\\t',concl(a,b,c,d,e,f,g))\n",
        "#I inputted all the parameters because it is easier to call the appropriate paramater in the for loop\n",
        "                                    if p1(a,b,c,d,e,f,g)==True and p2(a,b,c,d,e,f,g)==True and p3(a,b,c,d,e,f,g)==True and p4(a,b,c,d,e,f,g)==True and p5(a,b,c,d,e,f,g)==True and p6(a,b,c,d,e,f,g)==True and p7(a,b,c,d,e,f,g)==True and p8(a,b,c,d,e,f,g)==True and concl(a,b,c,d,e,f,g)==False:\n",
        "                                        validity = False\n",
        "    if validity == True:\n",
        "        # Testing the validity of the argument using the definition of the a valid argument wwhich states that if all premises are true then the conclusion must be true, otherwise the argument is invalid\n",
        "        print(\"The argument is VALID.\")\n",
        "    else:\n",
        "        print(\"The argument is INVALID.\")\n",
        "\n",
        "#calling all the functions in the paramaters of the valid_checker function to test the premises\n",
        "valid_checker(premise1,premise2,premise3,premise4,premise5,premise6,premise7,premise8,conclusion)"
      ]
    },
    {
      "cell_type": "markdown",
      "metadata": {
        "id": "iHx1tm18wHP1"
      },
      "source": [
        "We interpret this in python by making every premise a function with atomic sentence variables as all the parameters. Every premise function will use only the variables (atomic sentences) it needs and will return a boolean by evaluating the premise atomic sentences with the logical connective.\n",
        "\n",
        "\n",
        "\n",
        "If the logical connective isn't a basic python tool such as \"and,\" \" not,\" \"or,\" then we need to create the function ourselves and call it the appropriate premise function. Afterward, we send all the functions as parameters in a valid checker function which will use for loops to test every combination of logical connections between variable for every possible case and the outcome of the functions. If all the premises return a true value and the function conclusion is true as well, then we print at the end the argument is valid; otherwise, we print invalid."
      ]
    },
    {
      "cell_type": "markdown",
      "metadata": {
        "id": "ExUp-7Gw96aE"
      },
      "source": [
        "#### 6. Fallacy analysis (<300 words):"
      ]
    },
    {
      "cell_type": "markdown",
      "metadata": {
        "id": "HzSWEXPfxpUi"
      },
      "source": [
        "P1: If you offer a retirement plan to your team, then your team will be happy and\n",
        "\n",
        "satisfied\n",
        "\n",
        "\n",
        "\n",
        "P2: If your team is happy and satisfied, then your team's productivity will increase.\n",
        "\n",
        "\n",
        "\n",
        "P3: If your team's productivity increases, then your business will get benefits\n",
        "\n",
        "\n",
        "\n",
        "P4: If you offer a retirement plan, it will require you inconvenient plan admin work\n",
        "\n",
        "that you hate\n",
        "\n",
        "\n",
        "\n",
        "P5: If there is a retirement plan that will not require you inconvenient plan admin work that you hate, you will enroll in it\n",
        "\n",
        "\n",
        "\n",
        "P6: If you enroll in guidelines, you will offer a retirement plan that will not require you inconvenient plan admin work that you hate\n",
        "\n",
        "\n",
        "\n",
        "P7: If you want to bring benefits to your business, then you offer a retirement plan\n",
        "\n",
        "\n",
        "\n",
        "P8: you want to bring benefits to your business\n",
        "\n",
        "\n",
        "\n",
        "Conclusion: Therefore, you should enroll in guideline\n",
        "\n",
        "This argument is not sound, as I mentioned above. The informal fallacy is a hasty generalization. The first premise states that if you offer your team a retirement plan, your team will be happy and satisfied. The ad addresses everyone that sees the ad, meaning every business owner with a team. While some teams will be happy and satisfied by being provided with a retirement plan, some won't. Why? Maybe their work environment is toxic, or perhaps they hate working there, but they are obliged to do so. Therefore, the flaw here is getting a retirement plan does not guarantee happiness, so this doesn't apply to every working team.\n",
        "\n",
        "One way to mitigate this fallacy is by modifying the first premise this way:\n",
        "\n",
        "\n",
        "\n",
        "\" If you offer a retirement plan to your team, then your team might become happy and satisfied.\"\n",
        "\n",
        "\n",
        "\n",
        "Including the possibility of the team becoming happy and not stating it will mitigate this fallacy or even cancel it out because it will not imply that every team having a retirement plan will be happy and satisfied, thus filling the logic flaw. The meaning of the conclusion will remain the same, and the premises as well; it will make the argument sound truthful rather than fallacious.\n",
        "\n",
        "The advertisement industry uses all kinds of tools, such as edited pictures of fake food and products and psychological tricks, to lure people into the act of consuming. I believe that the fallacy of this advertisement was part of the nature of the advertisement. While I appreciate the structure that the Ad presented itself ( use of the word \"choose\"), I should call the ad out for intentionally incorporating this fallacy to influence into doing business with them.\n",
        "\n"
      ]
    },
    {
      "cell_type": "markdown",
      "metadata": {
        "id": "y2oG5Knl96aF"
      },
      "source": [
        "## **<font color='#3399CC'>PART 2 - INDUCTION</font>**\n",
        "\n",
        "In this part, I will work with an advertisement for which the underlying argument involves **inductive reasoning**. This should be a different advertisement from part 1, because it is from different neighborhood and pertaining to a different industry.\n"
      ]
    },
    {
      "cell_type": "markdown",
      "metadata": {
        "id": "r4_WW4Kh7iBl"
      },
      "source": [
        "### **<font color='#3399CC'>Argument development for part 2</font>**\n",
        "\n",
        "#### 1. Include at least two photos: a photo that clearly shows the advertisement in full and a selfie that clearly shows your face with the advertisement."
      ]
    },
    {
      "cell_type": "code",
      "execution_count": null,
      "metadata": {
        "id": "AlW05rD37iBl"
      },
      "outputs": [],
      "source": [
        "from IPython.display import Image\n",
        "Image(\"https://minerva-sle-collaboration-production.s3.us-west-2.amazonaws.com/workbook-upload/cl8we17c70002356hlcvafp96\")"
      ]
    },
    {
      "cell_type": "code",
      "execution_count": null,
      "metadata": {
        "id": "xsD2z_587iBl"
      },
      "outputs": [],
      "source": [
        "Image(\"https://minerva-sle-collaboration-production.s3.us-west-2.amazonaws.com/workbook-upload/cl8we1aru0003356h5k565znl\")"
      ]
    },
    {
      "cell_type": "markdown",
      "metadata": {
        "id": "mX9yIQxO7iBl"
      },
      "source": [
        "The picture of a dog wearing glasses was attention-grabbing, quirky, and funny. It's definitely an \"oddvertising\"! The underlying message would be that ZENNI has a wide range of glasses for everyone. This message is stated explicitly in the slogan \" Eyewear for everyone\" and implicitly with the pictures of various people and a dog wearing their glasses. The premises used are that ZENNI has different glasses styles for other age groups and that even a dog who doesn't wear glasses is wearing a pair. I believe that this advertisement leads the viewers that they should shop for glasses from ZENNI.\n",
        "\n",
        "P1: People in the pictures are from different age groups and are wearing glasses\n",
        "\n",
        "P2: People wearing glasses in the picture are smiling\n",
        "\n",
        "P3: Even a dog who doesn't wear or need glasses is wearing a pair\n",
        "\n",
        "P4: ZENNI selles a broad range of glasses for everyone\n",
        "\n",
        "Conclusion: I should buy glasses from ZENNI\n",
        "\n",
        "I focused on the advertisement as a whole by underlining the slogan \"Eyeware for everyone.\" I included implied premises to translate the purpose of the pictures to further elaborate on the variety of the glasses produced by ZENNI to support the conclusion that one should shop from this company. The dog wearing the glasses was the striking element that caught a person's attention, then one's eye would travel to these pictures and notice the variety of people wearing the glasses; therefore, most people will relate to the diversity present in the ad and will get influenced into shopping from ZENNI.\n",
        "\n"
      ]
    },
    {
      "cell_type": "markdown",
      "metadata": {
        "id": "1vYcQW4_7iBl"
      },
      "source": [
        "#### 4. In a few sentences (<100 words), explain how you arrived at this argument from the advertisement. In particular, mention if you focused on one particular aspect of the advertisement, and provide brief justification for implied premises or conclusions that you added."
      ]
    },
    {
      "cell_type": "markdown",
      "metadata": {
        "id": "2JKOqbF27iBm"
      },
      "source": [
        "→ Write your explanation here (double click to edit the cell)."
      ]
    },
    {
      "cell_type": "markdown",
      "metadata": {
        "id": "6QR4p82S7iBm"
      },
      "source": [
        "### **<font color='#3399CC'>Analysis for part 2</font>**"
      ]
    },
    {
      "cell_type": "markdown",
      "metadata": {
        "id": "LfUetmHl7iBm"
      },
      "source": [
        "If we accept this argument's premises as reasonable, its conclusion is likely to be true, which aligns with the definition of an inductive argument. This argument's conclusion is likely to be true not as a matter of logical necessity ( a deductive argument feature) but rather as a matter of fact. We can imagine a universe in which the premises and the conclusion don't align; therefore, this argument is inductive.\n",
        "\n",
        "It is a generalization type of induction because the observation of the people in the ad being diverse and wearing glasses from ZENNI is used to draw a conclusion that ZENNI makes glasses for everyone.\n",
        "\n",
        "A strong inductive argument is one whose conclusion likely follows from the premises.\n",
        "\n",
        "When the inductive argument is strong, and the premises are acceptable or true, then it reliable.\n",
        "\n",
        "\n",
        "\n",
        "This is a strong inductive argument because if I suppose the premises are true, the conclusion will be true too. Since this argument is strong and its premises are acceptable. Therefore it is also reliable.\n",
        "\n",
        "\n",
        "\n",
        "We can make this argument stronger by adding more premises supporting the conclusion, such as people's testimonials that they found a large section of products or some numbers showing how many types of glasses ZENNI makes. We can make this argument more reliable if there's a way to display the authenticity of the testimonials or the data that would be included.\n",
        "\n",
        "P1: People in the pictures are from different age groups and are wearing glasses\n",
        "\n",
        "P2: People wearing glasses in the picture are smiling\n",
        "\n",
        "P3: Even a dog who doesn't wear or need glasses is wearing a pair\n",
        "\n",
        "P4: ZENNI selles a broad range of glasses that for everyone\n",
        "\n",
        "Conclusion: I should buy glasses from ZENNI\n",
        "\n",
        "This argument includes an informal fallacy which is a hasty generalization. Although different people portrayed in the ad were wearing glasses happily, it doesn't necessarily mean that ZENNI makes glasses that will suit every single person on planet earth will be happy. The flaw here is that the small sample of happy people in the ad doesn't support the claim that everyone would be satisfied with a pair of glasses from ZENNI. Therefore, \"eyewear for everyone\" lures to a hasty generalization.\n",
        "\n",
        "A way to mitigate this fallacy is by changing the slogan to eyewear for almost everyone. By changing this slogan, the fourth premise will vary; therefore, the bold claim that ZENNI can satisfy everyone with their glasses will get canceled, and the fallacy will be mitigated.\n",
        "\n",
        "I think that this fallacy is present to impose a bias that ZENNI can and will provide eyeglasses for everyone. I think that this was intentionally included to influence people into buying from ZENNI"
      ]
    },
    {
      "cell_type": "markdown",
      "metadata": {
        "id": "34a3R2eT96aK"
      },
      "source": [
        "## **<font color='#3399CC'>REFLECTION</font>**\n",
        "\n",
        "#### This assignment was an opportunity for \\#selfawareness as we pass hundreds of ads daily without taking a thorough look at them. I learned that understanding formal logic and how language in advertising can be manipulative can teach us much about human behavior, inspiring us to apply real-world scenarios in computer code to understand our world better. I couldn't apply the HCs without the help of practical learning principles. I utilized self-explanation and the method of elaborative interrogation throughout the assignment as it incorporates the principle of deep processing, which states that when using more mental energy while performing, the information can be recalled more effectively and will last longer in one's mind. I also applied and used the principle/strategy of spaced practice which states that when you spread studying over time, you will associate the material with many different cues."
      ]
    }
  ],
  "metadata": {
    "colab": {
      "provenance": [],
      "include_colab_link": true
    },
    "kernelspec": {
      "display_name": "Python 3",
      "language": "python",
      "name": "python3"
    },
    "language_info": {
      "codemirror_mode": {
        "name": "ipython",
        "version": 3
      },
      "file_extension": ".py",
      "mimetype": "text/x-python",
      "name": "python",
      "nbconvert_exporter": "python",
      "pygments_lexer": "ipython3",
      "version": "3.7.4"
    }
  },
  "nbformat": 4,
  "nbformat_minor": 0
}